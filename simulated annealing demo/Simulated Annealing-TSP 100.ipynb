{
 "cells": [
  {
   "cell_type": "markdown",
   "id": "8d1f597a-ffc7-48d7-9367-9fd1b7e3f7d9",
   "metadata": {},
   "source": [
    "This demo uses simulated annealing to solve the traveling sales man problem with 100 nodes,\n",
    "the program runs 10 times and save the result into the result folder, please check the result folder to see the results."
   ]
  },
  {
   "cell_type": "code",
   "execution_count": 1,
   "id": "c4b3bf06",
   "metadata": {},
   "outputs": [],
   "source": [
    "import numpy as np\n",
    "import networkx as nx\n",
    "import matplotlib\n",
    "matplotlib.use('Qt5Agg')\n",
    "import matplotlib.pyplot as plt\n",
    "from tqdm import tqdm\n",
    "from memory_profiler import profile\n",
    "import time"
   ]
  },
  {
   "cell_type": "code",
   "execution_count": 2,
   "id": "5612c277",
   "metadata": {},
   "outputs": [],
   "source": [
    "class TSP():\n",
    "    def __init__(self,coords):\n",
    "        self.coords = coords\n",
    "        self.start = 0\n",
    "        self.length = len(coords)\n",
    "        self.solution = []\n",
    "    def initial_s(self):\n",
    "        l = self.length\n",
    "        s_init = np.arange(l)\n",
    "        start = np.random.randint(0,l)\n",
    "        self.start = start\n",
    "        temp = s_init[0]\n",
    "        s_init[0] = s_init[start]\n",
    "        s_init[start] = temp\n",
    "        self.solution = s_init\n",
    "        return s_init\n",
    "    @staticmethod\n",
    "    def get_dis(a,b):\n",
    "        return np.linalg.norm(a-b)\n",
    "    def roulette(self,s):\n",
    "        p1,p2 = np.random.choice(np.arange(1,len(s)),2,replace=False)\n",
    "        if p1>p2:\n",
    "            p1,p2 = p2,p1\n",
    "        p =2 \n",
    "        if p == 2:\n",
    "            #insert\n",
    "            l=s.tolist()\n",
    "            l.insert(p2+1,l[p1])\n",
    "            del l[p1]\n",
    "            s = np.array(l)\n",
    "        return s\n",
    "    def total_dis(self,s):\n",
    "        dist = 0\n",
    "        for i,j in zip(s,s[1:]):\n",
    "            dist+= self.get_dis(self.coords[i],self.coords[j])\n",
    "        dist +=self.get_dis(self.coords[s[-1]],self.coords[s[0]])\n",
    "        return dist"
   ]
  },
  {
   "cell_type": "code",
   "execution_count": 3,
   "id": "a7a8a3a3",
   "metadata": {
    "scrolled": true
   },
   "outputs": [],
   "source": [
    "def simulated_annealing(tsp,fix_start=False,save=False):\n",
    "    T = 100\n",
    "    cooling_rate = 0.95\n",
    "    if fix_start==False:\n",
    "        s_current = tsp.initial_s()\n",
    "    else:\n",
    "        s_current = tsp.solution\n",
    "    coords = tsp.coords[s_current]\n",
    "    cost_current = tsp.total_dis(s_current)\n",
    "    t_list = []\n",
    "    cost_list=[]\n",
    "    t_list.append(T)\n",
    "    cost_list.append(cost_current)\n",
    "    #subplot 2 , the route before SA\n",
    "    fig= plt.figure(figsize=(10,5))\n",
    "    fig.suptitle('Solving Traveling SalesMan with SA ,100 Cities')\n",
    "    ax1= fig.add_subplot(132)\n",
    "    ax2= fig.add_subplot(133)\n",
    "    for first, second in zip(coords,coords[1:]):\n",
    "        ax1.plot([first[0],second[0]],[first[1],second[1]],'b')\n",
    "    ax1.plot([coords[-1][0],coords[0][0]],[coords[-1][1],coords[0][1]],'b')\n",
    "    ax1.plot(coords[0][0],coords[0][1],'go')\n",
    "    for c in coords[1:]:\n",
    "        ax1.plot(c[0],c[1],'ro')\n",
    "    #begin SA\n",
    "    while T > 1:\n",
    "        for i in range (500):\n",
    "            s_new = tsp.roulette(s_current)\n",
    "            cost_new = tsp.total_dis(s_new)\n",
    "            if cost_new < cost_current:\n",
    "                cost_current = cost_new\n",
    "                s_current = s_new\n",
    "                coords = tsp.coords[s_current]\n",
    "            else :\n",
    "                x=np.random.uniform()\n",
    "                if x< np.exp(-(cost_new-cost_current)/T):\n",
    "                    cost_current = cost_new\n",
    "                    s_current = s_new\n",
    "                    coords = tsp.coords[s_current]\n",
    "        T = T*cooling_rate\n",
    "        t_list.append(T)\n",
    "        cost_list.append(cost_current)\n",
    "    # subplot 3 , the route after SA\n",
    "    for first, second in zip(coords,coords[1:]):\n",
    "        ax2.plot([first[0],second[0]],[first[1],second[1]],'b')\n",
    "    ax2.plot([coords[-1][0],coords[0][0]],[coords[-1][1],coords[0][1]],'b')\n",
    "    ax2.plot(coords[0][0],coords[0][1],'go')\n",
    "    for c in coords[1:]:\n",
    "        ax2.plot(c[0],c[1],'ro')\n",
    "    #subplot 1 , the cost curve\n",
    "    ax3= fig.add_subplot(131)\n",
    "    ax3.plot(t_list,cost_list,'c')\n",
    "    ax3.set_title('Final Cost : '+str(cost_current))\n",
    "    ax3.set_xlabel('Temperature')\n",
    "    ax3.set_ylabel('Cost')\n",
    "    ax3.invert_xaxis()\n",
    "    #if fig.show() then save , the plot is blank\n",
    "    if save==False:\n",
    "        fig.show()\n",
    "\n",
    "    return s_current.tolist(),cost_current,fig"
   ]
  },
  {
   "cell_type": "code",
   "execution_count": 4,
   "id": "0e4138a9",
   "metadata": {},
   "outputs": [],
   "source": [
    "%load_ext memory_profiler"
   ]
  },
  {
   "cell_type": "code",
   "execution_count": 6,
   "id": "0ca1dfdf",
   "metadata": {},
   "outputs": [
    {
     "name": "stderr",
     "output_type": "stream",
     "text": [
      "  0%|          | 0/10 [00:00<?, ?it/s]"
     ]
    },
    {
     "name": "stdout",
     "output_type": "stream",
     "text": [
      "peak memory: 126.30 MiB, increment: 6.20 MiB\n"
     ]
    },
    {
     "name": "stderr",
     "output_type": "stream",
     "text": [
      " 10%|█         | 1/10 [00:20<03:04, 20.54s/it]"
     ]
    },
    {
     "name": "stdout",
     "output_type": "stream",
     "text": [
      "peak memory: 130.37 MiB, increment: 1.03 MiB\n"
     ]
    },
    {
     "name": "stderr",
     "output_type": "stream",
     "text": [
      " 20%|██        | 2/10 [00:40<02:43, 20.43s/it]"
     ]
    },
    {
     "name": "stdout",
     "output_type": "stream",
     "text": [
      "peak memory: 133.89 MiB, increment: 0.09 MiB\n"
     ]
    },
    {
     "name": "stderr",
     "output_type": "stream",
     "text": [
      " 30%|███       | 3/10 [01:01<02:23, 20.46s/it]"
     ]
    },
    {
     "name": "stdout",
     "output_type": "stream",
     "text": [
      "peak memory: 136.29 MiB, increment: 0.14 MiB\n"
     ]
    },
    {
     "name": "stderr",
     "output_type": "stream",
     "text": [
      " 40%|████      | 4/10 [01:21<02:02, 20.43s/it]"
     ]
    },
    {
     "name": "stdout",
     "output_type": "stream",
     "text": [
      "peak memory: 138.41 MiB, increment: 0.19 MiB\n"
     ]
    },
    {
     "name": "stderr",
     "output_type": "stream",
     "text": [
      " 50%|█████     | 5/10 [01:42<01:42, 20.41s/it]"
     ]
    },
    {
     "name": "stdout",
     "output_type": "stream",
     "text": [
      "peak memory: 140.68 MiB, increment: 0.03 MiB\n"
     ]
    },
    {
     "name": "stderr",
     "output_type": "stream",
     "text": [
      " 60%|██████    | 6/10 [02:02<01:21, 20.43s/it]"
     ]
    },
    {
     "name": "stdout",
     "output_type": "stream",
     "text": [
      "peak memory: 142.71 MiB, increment: 0.01 MiB\n"
     ]
    },
    {
     "name": "stderr",
     "output_type": "stream",
     "text": [
      " 70%|███████   | 7/10 [02:23<01:01, 20.57s/it]"
     ]
    },
    {
     "name": "stdout",
     "output_type": "stream",
     "text": [
      "peak memory: 144.87 MiB, increment: 0.00 MiB\n"
     ]
    },
    {
     "name": "stderr",
     "output_type": "stream",
     "text": [
      " 80%|████████  | 8/10 [02:43<00:40, 20.41s/it]"
     ]
    },
    {
     "name": "stdout",
     "output_type": "stream",
     "text": [
      "peak memory: 146.96 MiB, increment: 0.00 MiB\n"
     ]
    },
    {
     "name": "stderr",
     "output_type": "stream",
     "text": [
      " 90%|█████████ | 9/10 [03:03<00:20, 20.33s/it]"
     ]
    },
    {
     "name": "stdout",
     "output_type": "stream",
     "text": [
      "peak memory: 149.17 MiB, increment: 0.00 MiB\n"
     ]
    },
    {
     "name": "stderr",
     "output_type": "stream",
     "text": [
      "100%|██████████| 10/10 [03:24<00:00, 20.41s/it]\n"
     ]
    }
   ],
   "source": [
    "if __name__ =='__main__':\n",
    "    tsp_coords =np.loadtxt('./tsp_points.csv',delimiter=',')\n",
    "    tsp = TSP(tsp_coords)\n",
    "    tsp.initial_s()\n",
    "    cost_list=[]\n",
    "    time_list=[]\n",
    "    for i in tqdm(range(10)):\n",
    "        start_time = time.time()\n",
    "        %memit s,c,fig =simulated_annealing(tsp,fix_start=True,save=True)\n",
    "        end_time = time.time()\n",
    "        time_list.append(end_time-start_time)\n",
    "        cost_list.append(c)\n",
    "        fig.savefig('./result/TSP/SA'+str(i+1)+'.png',dpi=fig.dpi)\n",
    "        fig.clf()\n",
    "        with open('./result/TSP/SA_result.txt','a+') as f:\n",
    "            f.write('solution'+str(i+1)+': '+str(s)+'\\n')\n",
    "            f.write('cost'+str(i+1)+':'+str(c)+'\\n')\n",
    "            f.write('\\n')\n",
    "    with open('./result/TSP/SA_result.txt','a+') as f:\n",
    "        f.write('max time :'+str(np.max(time_list))+'s\\n')\n",
    "        f.write('min time :'+str(np.min(time_list))+'s\\n')\n",
    "        f.write('mean time :'+str(np.mean(time_list))+'s\\n')\n",
    "        f.write('max cost :'+str(np.max(cost_list))+'\\n')\n",
    "        f.write('min cost :'+str(np.min(cost_list))+'\\n')\n",
    "        f.write('mean cost :'+str(np.mean(cost_list))+'\\n')"
   ]
  },
  {
   "cell_type": "code",
   "execution_count": null,
   "id": "047a04a0",
   "metadata": {},
   "outputs": [],
   "source": []
  }
 ],
 "metadata": {
  "kernelspec": {
   "display_name": "Python 3 (ipykernel)",
   "language": "python",
   "name": "python3"
  },
  "language_info": {
   "codemirror_mode": {
    "name": "ipython",
    "version": 3
   },
   "file_extension": ".py",
   "mimetype": "text/x-python",
   "name": "python",
   "nbconvert_exporter": "python",
   "pygments_lexer": "ipython3",
   "version": "3.8.8"
  }
 },
 "nbformat": 4,
 "nbformat_minor": 5
}
